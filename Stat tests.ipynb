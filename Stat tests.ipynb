{
 "cells": [
  {
   "cell_type": "code",
   "execution_count": 7,
   "metadata": {},
   "outputs": [],
   "source": [
    "from scipy.stats import ks_2samp"
   ]
  },
  {
   "cell_type": "code",
   "execution_count": 8,
   "metadata": {},
   "outputs": [
    {
     "name": "stdout",
     "output_type": "stream",
     "text": [
      "KstestResult(statistic=0.101, pvalue=7.335921717149848e-05)\n",
      "KstestResult(statistic=0.084, pvalue=0.0017162135084044633)\n",
      "KstestResult(statistic=0.147, pvalue=7.709181203220028e-10)\n"
     ]
    }
   ],
   "source": [
    "with open(\"centersqeeuze200.txt\") as f:\n",
    "    lines = f.readlines()\n",
    "plural = []\n",
    "count = 0\n",
    "for i in (lines[0].split(\" \")):\n",
    "    if i[0].isdigit() and i[2].isdigit():\n",
    "        plural.append(float(i[:-2]))\n",
    "app = []\n",
    "for i in (lines[2].split(\" \")):\n",
    "    if i[0].isdigit() and i[2].isdigit():\n",
    "        app.append(float(i[:-2]))\n",
    "run = []\n",
    "for i in (lines[4].split(\" \")):\n",
    "    if i[0].isdigit() and i[2].isdigit():\n",
    "        run.append(float(i[:-2]))\n",
    "        \n",
    "print(ks_2samp(run, app))\n",
    "print(ks_2samp(plural, app))\n",
    "print(ks_2samp(run, plural))"
   ]
  },
  {
   "cell_type": "code",
   "execution_count": 9,
   "metadata": {},
   "outputs": [
    {
     "name": "stdout",
     "output_type": "stream",
     "text": [
      "KstestResult(statistic=0.005, pvalue=1.0)\n",
      "KstestResult(statistic=0.008, pvalue=0.9999999999999962)\n",
      "KstestResult(statistic=0.005, pvalue=1.0)\n"
     ]
    }
   ],
   "source": [
    "with open(\"3parties200its.txt\") as f:\n",
    "    lines = f.readlines()\n",
    "    \n",
    "plural = []\n",
    "\n",
    "for i in (lines[0].split(\" \")):\n",
    "    if len(i) > 0:\n",
    "        if i[0].isdigit() and i[2].isdigit():\n",
    "            plural.append(float(i[:-2]))\n",
    "\n",
    "app = []\n",
    "\n",
    "for i in (lines[2].split(\" \")):\n",
    "    if i[0].isdigit() and i[2].isdigit():\n",
    "        app.append(float(i[:-2]))\n",
    "\n",
    "run = []\n",
    "\n",
    "for i in (lines[4].split(\" \")):\n",
    "    if i[0].isdigit() and i[2].isdigit():\n",
    "        run.append(float(i[:-2]))\n",
    "        \n",
    "print(ks_2samp(run, app))\n",
    "print(ks_2samp(plural, app))\n",
    "print(ks_2samp(run, plural))"
   ]
  },
  {
   "cell_type": "code",
   "execution_count": 28,
   "metadata": {},
   "outputs": [
    {
     "name": "stdout",
     "output_type": "stream",
     "text": [
      "KstestResult(statistic=0.03, pvalue=0.7593695685682871)\n",
      "KstestResult(statistic=0.205, pvalue=8.493582764331036e-19)\n",
      "KstestResult(statistic=0.233, pvalue=3.293282821940129e-24)\n"
     ]
    }
   ],
   "source": [
    "with open(\"instant_spoil.txt\") as f:\n",
    "    lines = f.readlines()\n",
    "spoil = []\n",
    "\n",
    "for i in lines[0].split(\",\"):\n",
    "    spoil.append(float(i))\n",
    "    \n",
    "with open(\"approval_spoil.txt\") as f:\n",
    "    lines = f.readlines()\n",
    "approval = []\n",
    "\n",
    "for i in lines[0].split(\",\"):\n",
    "    approval.append(float(i))\n",
    "    \n",
    "with open(\"plural_spoil.txt\") as f:\n",
    "    lines = f.readlines()\n",
    "plural = []\n",
    "\n",
    "for i in lines[0].split(\",\"):\n",
    "    plural.append(float(i))\n",
    "    \n",
    "print(ks_2samp(spoil, approval))\n",
    "print(ks_2samp(spoil, plural))\n",
    "print(ks_2samp(plural, approval))"
   ]
  },
  {
   "cell_type": "code",
   "execution_count": 29,
   "metadata": {},
   "outputs": [
    {
     "name": "stdout",
     "output_type": "stream",
     "text": [
      "KstestResult(statistic=0.06, pvalue=0.05462666510701526)\n",
      "KstestResult(statistic=0.031, pvalue=0.7228251828701066)\n",
      "KstestResult(statistic=0.043, pvalue=0.3136800387320582)\n"
     ]
    }
   ],
   "source": [
    "with open(\"instant_equal.txt\") as f:\n",
    "    lines = f.readlines()\n",
    "spoil = []\n",
    "\n",
    "for i in lines[0].split(\",\"):\n",
    "    spoil.append(float(i))\n",
    "    \n",
    "with open(\"approval_equal.txt\") as f:\n",
    "    lines = f.readlines()\n",
    "approval = []\n",
    "\n",
    "for i in lines[0].split(\",\"):\n",
    "    approval.append(float(i))\n",
    "    \n",
    "with open(\"plural_equal.txt\") as f:\n",
    "    lines = f.readlines()\n",
    "plural = []\n",
    "\n",
    "for i in lines[0].split(\",\"):\n",
    "    plural.append(float(i))\n",
    "    \n",
    "print(ks_2samp(spoil, approval))\n",
    "print(ks_2samp(spoil, plural))\n",
    "print(ks_2samp(plural, approval))"
   ]
  },
  {
   "cell_type": "code",
   "execution_count": null,
   "metadata": {},
   "outputs": [],
   "source": []
  }
 ],
 "metadata": {
  "kernelspec": {
   "display_name": "Python 3",
   "language": "python",
   "name": "python3"
  },
  "language_info": {
   "codemirror_mode": {
    "name": "ipython",
    "version": 3
   },
   "file_extension": ".py",
   "mimetype": "text/x-python",
   "name": "python",
   "nbconvert_exporter": "python",
   "pygments_lexer": "ipython3",
   "version": "3.8.5"
  },
  "varInspector": {
   "cols": {
    "lenName": 16,
    "lenType": 16,
    "lenVar": 40
   },
   "kernels_config": {
    "python": {
     "delete_cmd_postfix": "",
     "delete_cmd_prefix": "del ",
     "library": "var_list.py",
     "varRefreshCmd": "print(var_dic_list())"
    },
    "r": {
     "delete_cmd_postfix": ") ",
     "delete_cmd_prefix": "rm(",
     "library": "var_list.r",
     "varRefreshCmd": "cat(var_dic_list()) "
    }
   },
   "types_to_exclude": [
    "module",
    "function",
    "builtin_function_or_method",
    "instance",
    "_Feature"
   ],
   "window_display": false
  }
 },
 "nbformat": 4,
 "nbformat_minor": 4
}
